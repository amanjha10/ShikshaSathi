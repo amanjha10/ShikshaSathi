{
 "cells": [
  {
   "cell_type": "markdown",
   "id": "dab3c68e",
   "metadata": {},
   "source": [
    "# KUSOE RAG System Demo\n",
    "\n",
    "This notebook demonstrates a simple Retrieval-Augmented Generation (RAG) pipeline to query information about Kathmandu University School of Engineering (KUSOE).\n",
    "\n",
    "### Components:\n",
    "- **Data Source**: A custom-built database of text files located in `../KUSOE_database/`.\n",
    "- **Chunking**: Files are split into smaller chunks using a custom delimiter (`-c-h-u-n-k-h-e-r-e-`).\n",
    "- **Embeddings**: `bge-small-en` model is used to generate embeddings for the chunks.\n",
    "- **Vector Store**: `ChromaDB` (in-memory) is used to store the embeddings and perform similarity searches.\n",
    "- **Framework**: `LlamaIndex` orchestrates the pipeline from data loading to querying.\n",
    "\n",
    "This setup is designed for fast, low-latency retrieval."
   ]
  },
  {
   "cell_type": "code",
   "execution_count": 3,
   "id": "a1a860bc",
   "metadata": {},
   "outputs": [],
   "source": [
    "!pip install -qU llama-index llama-index-vector-stores-chroma llama-index-embeddings-huggingface chromadb sentence-transformers"
   ]
  },
  {
   "cell_type": "code",
   "execution_count": 2,
   "id": "06661da5",
   "metadata": {},
   "outputs": [
    {
     "name": "stderr",
     "output_type": "stream",
     "text": [
      "/media/epein5/Data1/Voice-to-voice/venv/lib/python3.12/site-packages/tqdm/auto.py:21: TqdmWarning: IProgress not found. Please update jupyter and ipywidgets. See https://ipywidgets.readthedocs.io/en/stable/user_install.html\n",
      "  from .autonotebook import tqdm as notebook_tqdm\n"
     ]
    }
   ],
   "source": [
    "import os\n",
    "from llama_index.core import VectorStoreIndex, SimpleDirectoryReader\n",
    "from llama_index.core.node_parser import SentenceSplitter\n",
    "from llama_index.core import StorageContext\n",
    "from llama_index.core import Settings\n",
    "import chromadb\n",
    "from chromadb.utils import embedding_functions\n",
    "\n",
    "# For ChromaDB integration\n",
    "try:\n",
    "    from llama_index.vector_stores.chroma import ChromaVectorStore\n",
    "except ImportError:\n",
    "    # Fallback for newer versions\n",
    "    from llama_index.vector_stores.chroma_vector_store import ChromaVectorStore\n",
    "\n",
    "# For embeddings\n",
    "try:\n",
    "    from llama_index.embeddings.huggingface import HuggingFaceEmbedding\n",
    "except ImportError:\n",
    "    # Fallback for newer versions\n",
    "    from llama_index.embeddings.huggingface_embedding import HuggingFaceEmbedding"
   ]
  },
  {
   "cell_type": "code",
   "execution_count": 3,
   "id": "6b459646",
   "metadata": {},
   "outputs": [
    {
     "name": "stdout",
     "output_type": "stream",
     "text": [
      "Loading data...\n",
      "Loaded 7 documents:\n",
      "  1. overview.txt\n",
      "  2. artificial_intelligence.txt\n",
      "  3. civil_engineering.txt\n",
      "  4. computer_engineering.txt\n",
      "  5. electrical_and_electronics_engineering.txt\n",
      "  6. information_technology.txt\n",
      "  7. mechanical_engineering.txt\n",
      "---\n"
     ]
    }
   ],
   "source": [
    "# 1. Load Data\n",
    "print(\"Loading data...\")\n",
    "documents = SimpleDirectoryReader(\n",
    "    input_dir=\"../KUSOE_database/\",\n",
    "    recursive=True  # This will load files from subdirectories too\n",
    ").load_data()\n",
    "\n",
    "print(f\"Loaded {len(documents)} documents:\")\n",
    "for i, doc in enumerate(documents):\n",
    "    file_name = doc.metadata.get('file_name', 'Unknown')\n",
    "    print(f\"  {i+1}. {file_name}\")\n",
    "print(\"---\")"
   ]
  },
  {
   "cell_type": "code",
   "execution_count": 4,
   "id": "ba40124e",
   "metadata": {},
   "outputs": [
    {
     "data": {
      "text/plain": [
       "[Document(id_='4f4454af-ab43-4340-8451-f80d59bd8a9d', embedding=None, metadata={'file_path': '/media/epein5/Data1/Voice-to-voice/rag/../KUSOE_database/overview.txt', 'file_name': 'overview.txt', 'file_type': 'text/plain', 'file_size': 10577, 'creation_date': '2025-06-28', 'last_modified_date': '2025-06-28'}, excluded_embed_metadata_keys=['file_name', 'file_type', 'file_size', 'creation_date', 'last_modified_date', 'last_accessed_date'], excluded_llm_metadata_keys=['file_name', 'file_type', 'file_size', 'creation_date', 'last_modified_date', 'last_accessed_date'], relationships={}, metadata_template='{key}: {value}', metadata_separator='\\n', text_resource=MediaResource(embeddings=None, data=None, text=\"# KUSOE General Information: Overview\\n\\nKathmandu University School of Engineering (KUSOE), established in 1994 AD, is a leading autonomous, non-profit, and self-funding academic institution in Nepal. Situated in Dhulikhel, KUSOE offers a wide range of undergraduate and graduate programs, aiming to produce self-motivated, competitive, and creative graduates with an entrepreneurial mindset. The school is renowned for its research-driven approach, experienced faculty, and strong industry connections, making it a benchmark for engineering education in Nepal.\\n\\n-c-h-u-n-k-h-e-r-e-\\n\\n# KUSOE Admission Information: General Timeline\\nNormal annual intake: Fall (July–September) for undergraduate and most graduate programs. Specific dates for application submission and entrance exams are announced on the official KU website (ku.edu.np) and the School of Engineering portal.\\n\\nSome graduate and postgraduate programs may have different intake times as decided by the respective School/Department.\\n\\n-c-h-u-n-k-h-e-r-e-\\n\\n# KUSOE Admission Information: Undergraduate Eligibility Criteria\\n- Completion of 10+2 or equivalent from a recognized board with a minimum GPA of 2.0 or 50% aggregate marks.\\n- For most engineering programs (Civil, Mechanical, Electrical, Computer, etc.), the student must have taken Physics, Chemistry, and Mathematics (PCM) group.\\n- For A-Level: Minimum 3 A-level subjects and 1 AS-level in relevant combinations (PCB, PCM, or PMCs). A-level students must have studied Physics, Chemistry, and Mathematics for engineering programs.\\n- For IB Diploma: Minimum 6 subjects with relevant combinations and a final IB grade of 3 in each course.\\n- CTEVT Diploma holders: Eligible for related disciplines, subject to equivalent percentage criteria. A three-year diploma in a relevant engineering field is typically required.\\n- Foreign Boards: Must present an equivalence certificate from the Curriculum Development Centre (CDC), Sanothimi, Bhaktapur, or from KU authority at the time of admission.\\n- Candidates from the Biology stream (PCB) must have passed Additional Mathematics with a satisfactory grade to be eligible for the PCM-based KUCAT test.\\n- Candidates awaiting Grade 12 results may apply for provisional admission. However, they must submit the final mark sheet and meet all requirements by the deadline specified by the university, or their admission will be canceled.\\n\\n-c-h-u-n-k-h-e-r-e-\\n\\n# KUSOE Admission Information: Entrance Examination (KUCAT-CBT)\\n- All applicants (except for Bachelor in Health Informatics and Bachelor in Heritage Conservation) must appear in the Kathmandu University Common Admission Test (KUCAT) Computer-Based Test (CBT).\\n- The test is comprised of Multiple Choice Questions (MCQs) based on the 10+2 syllabus.\\n- Test groups: PCM (Physics, Chemistry, Mathematics) or PCB (Physics,Chemistry, Biology), depending on the program. Engineering applicants must take the PCM test.\\n- The entrance exam is a computer-based test (CBT) conducted at the KU Dhulikhel campus. Scores are typically based on the number of correct answers, and a merit list is published based on these scores.\\n\\n-c-h-u-n-k-h-e-r-e-\\n\\n# KUSOE Admission Information: Post-Entrance Examination Process\\n\\n## KUCAT-CBT Result and Merit List\\n- The results of the KUCAT-CBT are published on the KU official website, usually within a few days of the test.\\n- A merit list is published based on the scores obtained by the candidates. The minimum pass mark is not fixed and depends on the overall performance of the applicants in a given year, but generally, a score of around 40-50% is considered a competitive baseline.\\n\\n## If You Pass the Entrance Exam (Appear on the Merit List)\\n- **Counseling:** Shortlisted candidates are called for a counseling session based on their merit rank. The counseling schedule is published on the KU website.\\n- **Program Selection:** During counseling, candidates choose their preferred engineering discipline based on their merit rank and the availability of seats in that program. Higher-ranked candidates get the first choice.\\n- **Admission Offer:** Successful candidates receive an offer of admission.\\n- **Admission Confirmation:** To confirm the admission, candidates must submit their original academic documents for verification and pay the required admission and first-semester fees within the specified deadline.\\n\\n## If You Fail the Entrance Exam (Do Not Appear on the Merit List)\\n- Candidates who do not score high enough to be on the merit list are not eligible for admission in that academic year.\\n- There is no provision for re-evaluation of the CBT test.\\n- Such candidates can apply again in the following year's admission cycle.\\n\\n-c-h-u-n-k-h-e-r-e-\\n\\n# KUSOE Admission Information: Seat Allocation\\nThe number of seats for each program is limited and can vary slightly each year. The approximate number of seats for major engineering programs are as follows (please refer to the official KU website for the exact numbers for the current year):\\n- Computer Engineering: ~60 seats\\n- Electrical and Electronics Engineering: ~60 seats\\n- Mechanical Engineering: ~60 seats\\n- Civil Engineering: ~60 seats\\n- Artificial Intelligence: ~30 seats\\n- Information Technology: ~30 seats\\n- Architecture: ~30 seats\\n\\n-c-h-u-n-k-h-e-r-e-\\n\\n# KUSOE General Information: Fee Structure Overview\\nThe total fee for each program is paid over the duration of the course in semester-wise installments. The fee structure for each program, including a detailed semester-wise breakdown, is provided in the respective program files. The general fee structure is as follows:\\n- **Architecture (5 years):** NPR 1,045,000\\n- **All other 4-year undergraduate engineering programs:** NPR 915,000\\n- **Note:** Fees are subject to change annually. The fees mentioned here are for the 2024/25 academic year. Additional fees for labs, exams, and other miscellaneous expenses may apply.\\n\\n-c-h-u-n-k-h-e-r-e-\\n\\n# KUSOE General Information: Facilities and Student Life\\n- **Internships:** Strong emphasis on internships and industry exposure.\\n- **Financial Aid/Scholarships:** Need-based and partial scholarships available as per KU provisions, including University Grants Commission formula funding and department-specific scholarships.\\n- **Exchange Programs:** Opportunities for student exchanges with partner institutions.\\n- **Student Clubs:** Multiple student clubs and societies for professional and personal development.\\n- **Faculty:** Experienced faculty, visiting professors, and guest lecturers from industry and academia.\\n- **Campus Environment:** Beautiful, serene campus with excellent surroundings, ideal for study and research.\\n\\n-c-h-u-n-k-h-e-r-e-\\n\\n# KUSOE General Information: Teaching-Learning Environment\\n- Project-based, problem-based, and challenge-based learning from the first year.\\n- Intensive fieldwork, internships, project works, and community-based learning.\\n- Emphasis on practical skills, communication, and analytical abilities.\\n- Use of computers and software tools is deeply embedded in the curriculum.\\n- Opportunities for undergraduate students to participate in funded research projects.\\n\\n-c-h-u-n-k-h-e-r-e-\\n\\n# KUSOE General Information: Extracurricular Activities\\n- Seminars, workshops, trainings, project exhibitions, magazine publications.\\n- Blood donation drives, sports events, tree plantations, awareness programs.\\n- Welcome and farewell programs, and numerous events throughout the year.\\n\\n-c-h-u-n-k-h-e-r-e-\\n\\n# KUSOE General Information: Teacher-Staff-Student Relationship\\n- Highly student-friendly environment with mutual respect among faculty, staff, and students.\\n- Open access to counseling and academic support services.\\n\\n-c-h-u-n-k-h-e-r-e-\\n\\n# KUSOE General Information: Scholarships\\n- **Need-based and partial scholarships:** Provided as per KU policy.\\n- **University Grants Commission formula funding:** Scholarships and financial aid based on merit and need.\\n- **Department-specific scholarships:** For certain programs, additional scholarships may be available.\\n\\n-c-h-u-n-k-h-e-r-e-\\n\\n# KUSOE General Information: Research, Partnerships, and Industry Collaboration\\n- **Recent MoU with Practical Action Nepal (2025):** Partnership focuses on research, student internships, and joint development projects.\\n- **Objective:** Connect academic knowledge with real-world applications, especially in energy access, climate resilience, and community development.\\n- Students gain practical field experience and work on real development challenges.\\n- Joint research initiatives target issues like renewable energy, disaster risk reduction, and water management.\\n- Collaboration aims to develop low-cost, sustainable technologies aligned with Nepal’s development and SDG goals.\\n- Dr. Bijendra Shrestha (Mechanical Engineering) is the focal person for coordination.\\n- The partnership is expected to influence public policy and development planning in Nepal, promoting sustainable development and innovation.\\n\\n-c-h-u-n-k-h-e-r-e-\\n\\n# KUSOE General Information: Why Choose KUSOE?\\n- **World-Class Reputation:** Recognized for excellence in research, teaching, and societal impact.\\n- **Hands-on Learning:** Emphasis on real-world skills, internships, and research from the first year.\\n- **Global Outlook:** Exchange programs and international collaborations.\\n- **Entrepreneurial Focus:** Graduates are equipped for leadership, innovation, and entrepreneurship.\\n- **Student Support:** Scholarships, financial aid, and a supportive campus environment.\\n- **Sustainable Development:** Commitment to solving societal challenges and promoting sustainable technologies.\\n\\n-c-h-u-n-k-h-e-r-e-\\n\\n# KUSOE General Information: Principal's Message\\n“School of Engineering Kathmandu University has been a world-class engineering school since its inception and represents our country in the global arena. We focus on benchmarks of excellence in areas of research that target societal challenges, empowering education to be a change agent for the future, equal and equitable access in engineering areas, and entrepreneurship to bring great ideas to global industry. The main learning mantras adopted by the school of engineering are problem-based, project-based, challenge-based learning, and research on pressing issues of sustainable development with emerging technologies, such as climate change.”\\n— Prof. Manish Pokhrel, Dean, School of Engineering\\n\\n-c-h-u-n-k-h-e-r-e-\\n\\n# KUSOE General Information: Contact Information\\nSchool of Engineering, Kathmandu University\\nDhulikhel, Kavrepalanchok, Nepal\\nPhone: +977-11-415100\\nOfficial Website: ku.edu.np\\n\", path=None, url=None, mimetype=None), image_resource=None, audio_resource=None, video_resource=None, text_template='{metadata_str}\\n\\n{content}'),\n",
       " Document(id_='df3d8a36-05c4-4643-9249-165f274bdfab', embedding=None, metadata={'file_path': '/media/epein5/Data1/Voice-to-voice/rag/../KUSOE_database/programs/artificial_intelligence.txt', 'file_name': 'artificial_intelligence.txt', 'file_type': 'text/plain', 'file_size': 3943, 'creation_date': '2025-06-28', 'last_modified_date': '2025-06-28'}, excluded_embed_metadata_keys=['file_name', 'file_type', 'file_size', 'creation_date', 'last_modified_date', 'last_accessed_date'], excluded_llm_metadata_keys=['file_name', 'file_type', 'file_size', 'creation_date', 'last_modified_date', 'last_accessed_date'], relationships={}, metadata_template='{key}: {value}', metadata_separator='\\n', text_resource=MediaResource(embeddings=None, data=None, text='# Bachelor of Science in Artificial Intelligence (AI)\\n\\n-c-h-u-n-k-h-e-r-e-\\n\\n## Artificial Intelligence (AI) Program Overview\\nThe Bachelor of Science in Artificial Intelligence at KUSOE is a four-year program designed to provide students with a deep understanding of the theory and practice of AI. The curriculum covers core AI topics such as machine learning, deep learning, natural language processing, computer vision, and robotics. The program aims to produce graduates who can develop intelligent systems and solve complex problems using AI techniques.\\n\\n-c-h-u-n-k-h-e-r-e-\\n\\n## Artificial Intelligence (AI) Program Objectives\\n- To provide a strong foundation in the principles of artificial intelligence.\\n- To develop skills in designing and implementing AI models and algorithms.\\n- To provide knowledge of the mathematical and statistical foundations of AI.\\n- To foster an understanding of the ethical and social implications of AI.\\n- To prepare students for careers in the rapidly growing field of AI.\\n\\n-c-h-u-n-k-h-e-r-e-\\n\\n## Artificial Intelligence (AI) Career Prospects\\nGraduates can pursue careers as:\\n- AI/Machine Learning Engineer\\n- Data Scientist\\n- Research Scientist (AI)\\n- Robotics Engineer\\n- NLP Engineer\\n- Computer Vision Engineer\\n\\n-c-h-u-n-k-h-e-r-e-\\n\\n## Artificial Intelligence (AI) Fee Structure\\nThe total fee for the 4-year AI program is NPR 915,000. This is broken down into semester-wise payments as follows (amounts are approximate and subject to change):\\n- **Admission Fee:** NPR 100,000 (one-time payment at the time of admission)\\n- **Security Deposit:** NPR 10,000 (one-time, refundable)\\n- **Semester 1 Fee:** NPR 101,875\\n- **Semester 2 Fee:** NPR 101,875\\n- **Semester 3 Fee:** NPR 101,875\\n- **Semester 4 Fee:** NPR 101,875\\n- **Semester 5 Fee:** NPR 101,875\\n- **Semester 6 Fee:** NPR 101,875\\n- **Semester 7 Fee:** NPR 101,875\\n- **Semester 8 Fee:** NPR 101,875\\n- **Note:** Additional fees for exams, lab materials, and other miscellaneous expenses may be applicable.\\n\\n-c-h-u-n-k-h-e-r-e-\\n\\n## Artificial Intelligence (AI) Course Structure\\n\\n### Year 1, Semester 1\\n- MATH 101: Calculus and Linear Algebra\\n- PHYS 101: General Physics I\\n- COMP 101: Computer Programming I (Python)\\n- COMP 103: Introduction to AI\\n- EEEG 101: Basic Electrical Engineering\\n- ENGT 101: Communication Skills I\\n\\n### Year 1, Semester 2\\n- MATH 102: Differential Equations and Complex Variables\\n- MATH 103: Discrete Mathematics\\n- COMP 102: Computer Programming II (Python)\\n- EEEG 102: Basic Electronics Engineering\\n- MECH 101: Engineering Drawing\\n- ENGT 102: Communication Skills II\\n\\n### Year 2, Semester 1\\n- MATH 201: Probability and Statistics\\n- COMP 201: Data Structures and Algorithms\\n- COMP 202: Object-Oriented Programming (Java)\\n- AINT 201: Fundamentals of Machine Learning\\n- EEEG 201: Digital Logic\\n- MGTS 201: Principles of Management\\n\\n### Year 2, Semester 2\\n- MATH 202: Numerical Methods\\n- COMP 203: Database Management Systems\\n- AINT 202: Deep Learning\\n- AINT 203: Natural Language Processing\\n- COMP 204: Computer Organization and Architecture\\n- ENVE 201: Environmental Science and Engineering\\n\\n### Year 3, Semester 1\\n- AINT 301: Computer Vision\\n- AINT 302: Reinforcement Learning\\n- COMP 301: Operating Systems\\n- COMP 303: Software Engineering\\n- EEEG 301: Signals and Systems\\n- Project I\\n\\n### Year 3, Semester 2\\n- AINT 303: AI Ethics and Society\\n- AINT 304: Robotics\\n- COMP 306: Web Technologies\\n- Elective I\\n- Elective II\\n- Project II\\n\\n### Year 4, Semester 1\\n- AINT 401: Advanced Topics in AI\\n- AINT 402: Big Data Analytics\\n- Elective III\\n- Elective IV\\n- Project III\\n- Internship\\n\\n### Year 4, Semester 2\\n- AINT 403: AI for Social Good\\n- MGTS 401: Engineering Economics\\n- ENGT 401: Professional Practice\\n- Elective V\\n- Final Year Project\\n\\n-c-h-u-n-k-h-e-r-e-\\n\\n## Artificial Intelligence (AI) Elective Courses\\n- AI in Healthcare\\n- Autonomous Vehicles\\n- Speech and Audio Processing\\n- AI for Finance\\n- Quantum Computing\\n- Advanced Robotics\\n', path=None, url=None, mimetype=None), image_resource=None, audio_resource=None, video_resource=None, text_template='{metadata_str}\\n\\n{content}'),\n",
       " Document(id_='83f2aad2-10fa-467e-a06d-b53613249f70', embedding=None, metadata={'file_path': '/media/epein5/Data1/Voice-to-voice/rag/../KUSOE_database/programs/civil_engineering.txt', 'file_name': 'civil_engineering.txt', 'file_type': 'text/plain', 'file_size': 4077, 'creation_date': '2025-06-28', 'last_modified_date': '2025-06-28'}, excluded_embed_metadata_keys=['file_name', 'file_type', 'file_size', 'creation_date', 'last_modified_date', 'last_accessed_date'], excluded_llm_metadata_keys=['file_name', 'file_type', 'file_size', 'creation_date', 'last_modified_date', 'last_accessed_date'], relationships={}, metadata_template='{key}: {value}', metadata_separator='\\n', text_resource=MediaResource(embeddings=None, data=None, text='# Bachelor of Engineering in Civil Engineering\\n\\n-c-h-u-n-k-h-e-r-e-\\n\\n## Civil Engineering Program Overview\\nThe Bachelor of Engineering in Civil Engineering at KUSOE is a four-year program that prepares students to plan, design, construct, and maintain the physical and naturally built environment. The curriculum covers a wide range of topics, including structural engineering, geotechnical engineering, transportation engineering, water resources engineering, and environmental engineering.\\n\\n-c-h-u-n-k-h-e-r-e-\\n\\n## Civil Engineering Program Objectives\\n- To provide a strong foundation in the principles of civil engineering.\\n- To develop skills in the design and analysis of civil engineering structures.\\n- To provide knowledge of construction materials and techniques.\\n- To foster an understanding of the social, economic, and environmental aspects of civil engineering projects.\\n- To prepare students for professional licensure and a successful career in civil engineering.\\n\\n-c-h-u-n-k-h-e-r-e-\\n\\n## Civil Engineering Career Prospects\\nGraduates can work in:\\n- Construction Companies\\n- Consulting Firms\\n- Government Agencies (e.g., Department of Roads, Department of Water Supply and Sewerage)\\n- Real Estate and Infrastructure Development\\n- Hydropower and Irrigation Projects\\n- Research and Academia\\n\\n-c-h-u-n-k-h-e-r-e-\\n\\n## Civil Engineering Fee Structure\\nThe total fee for the 4-year Civil Engineering program is NPR 915,000. This is broken down into semester-wise payments as follows (amounts are approximate and subject to change):\\n- **Admission Fee:** NPR 100,000 (one-time payment at the time of admission)\\n- **Security Deposit:** NPR 10,000 (one-time, refundable)\\n- **Semester 1 Fee:** NPR 101,875\\n- **Semester 2 Fee:** NPR 101,875\\n- **Semester 3 Fee:** NPR 101,875\\n- **Semester 4 Fee:** NPR 101,875\\n- **Semester 5 Fee:** NPR 101,875\\n- **Semester 6 Fee:** NPR 101,875\\n- **Semester 7 Fee:** NPR 101,875\\n- **Semester 8 Fee:** NPR 101,875\\n- **Note:** Additional fees for exams, lab materials, and other miscellaneous expenses may be applicable.\\n\\n-c-h-u-n-k-h-e-r-e-\\n\\n## Civil Engineering Course Structure\\n\\n### Year 1, Semester 1\\n- MATH 101: Calculus and Linear Algebra\\n- PHYS 101: General Physics I\\n- ENGG 101: Introduction to Engineering\\n- COMP 101: Computer Programming I (C)\\n- CVLE 101: Civil Engineering Materials\\n- ENGT 101: Communication Skills I\\n\\n### Year 1, Semester 2\\n- MATH 102: Differential Equations and Complex Variables\\n- PHYS 102: General Physics II\\n- MECH 101: Engineering Drawing\\n- MECH 102: Statics and Dynamics\\n- CVLE 102: Surveying I\\n- ENGT 102: Communication Skills II\\n\\n### Year 2, Semester 1\\n- MATH 201: Probability and Statistics\\n- MECH 201: Strength of Materials\\n- CVLE 201: Surveying II\\n- CVLE 202: Fluid Mechanics\\n- CVLE 203: Geology for Civil Engineers\\n- MGTS 201: Principles of Management\\n\\n### Year 2, Semester 2\\n- MATH 202: Numerical Methods\\n- CVLE 204: Structural Analysis I\\n- CVLE 205: Geotechnical Engineering I\\n- CVLE 206: Transportation Engineering I\\n- CVLE 207: Water Resources Engineering I\\n- ENVE 201: Environmental Science and Engineering\\n\\n### Year 3, Semester 1\\n- CVLE 301: Structural Analysis II\\n- CVLE 302: Geotechnical Engineering II\\n- CVLE 303: Transportation Engineering II\\n- CVLE 304: Water Resources Engineering II\\n- CVLE 305: Design of Concrete Structures I\\n- Project I\\n\\n### Year 3, Semester 2\\n- CVLE 306: Design of Steel Structures\\n- CVLE 307: Foundation Engineering\\n- CVLE 308: Hydropower Engineering\\n- Elective I\\n- Elective II\\n- Project II\\n\\n### Year 4, Semester 1\\n- CVLE 401: Construction Management\\n- CVLE 402: Design of Concrete Structures II\\n- Elective III\\n- Elective IV\\n- Project III\\n- Internship\\n\\n### Year 4, Semester 2\\n- CVLE 403: Estimating and Costing\\n- MGTS 401: Engineering Economics\\n- ENGT 401: Professional Practice\\n- Elective V\\n- Final Year Project\\n\\n-c-h-u-n-k-h-e-r-e-\\n\\n## Civil Engineering Elective Courses\\n- Bridge Engineering\\n- Traffic Engineering and Management\\n- Irrigation and Drainage Engineering\\n- Earthquake Resistant Design of Structures\\n- Solid Waste Management\\n- Environmental Impact Assessment\\n', path=None, url=None, mimetype=None), image_resource=None, audio_resource=None, video_resource=None, text_template='{metadata_str}\\n\\n{content}'),\n",
       " Document(id_='0fc00c68-e288-4d4f-8f92-921dbe733bd2', embedding=None, metadata={'file_path': '/media/epein5/Data1/Voice-to-voice/rag/../KUSOE_database/programs/computer_engineering.txt', 'file_name': 'computer_engineering.txt', 'file_type': 'text/plain', 'file_size': 4458, 'creation_date': '2025-06-28', 'last_modified_date': '2025-06-28'}, excluded_embed_metadata_keys=['file_name', 'file_type', 'file_size', 'creation_date', 'last_modified_date', 'last_accessed_date'], excluded_llm_metadata_keys=['file_name', 'file_type', 'file_size', 'creation_date', 'last_modified_date', 'last_accessed_date'], relationships={}, metadata_template='{key}: {value}', metadata_separator='\\n', text_resource=MediaResource(embeddings=None, data=None, text='# Bachelor of Engineering in Computer Engineering (CE)\\n\\n-c-h-u-n-k-h-e-r-e-\\n\\n## Computer Engineering (CE) Program Overview\\nThe Bachelor of Engineering in Computer Engineering program at Kathmandu University is a four-year, eight-semester course that provides a strong foundation in the principles and practices of both computer science and electronics engineering. The curriculum is designed to produce graduates who are proficient in designing, developing, and implementing computer systems and applications. The program emphasizes a hands-on, project-based learning approach, preparing students for careers in software development, network engineering, embedded systems, and other related fields.\\n\\n-c-h-u-n-k-h-e-r-e-\\n\\n## Computer Engineering (CE) Program Objectives\\n- To provide a solid understanding of the fundamental principles of computer science and engineering.\\n- To develop skills in software design, development, and testing.\\n- To provide knowledge of computer hardware, architecture, and networking.\\n- To foster an understanding of the social, ethical, and professional responsibilities of a computer engineer.\\n- To encourage lifelong learning and research in the field of computer engineering.\\n\\n-c-h-u-n-k-h-e-r-e-\\n\\n## Computer Engineering (CE) Career Prospects\\nGraduates of the Computer Engineering program have a wide range of career opportunities in various sectors, including:\\n- Software Development Companies\\n- IT Consultancies\\n- Telecommunication Companies\\n- Government and Non-Governmental Organizations\\n- Research and Development Institutions\\n- Academia\\n\\n-c-h-u-n-k-h-e-r-e-\\n\\n## Computer Engineering (CE) Fee Structure\\nThe total fee for the 4-year Computer Engineering program is NPR 915,000. This is broken down into semester-wise payments as follows (amounts are approximate and subject to change):\\n- **Admission Fee:** NPR 100,000 (one-time payment at the time of admission)\\n- **Security Deposit:** NPR 10,000 (one-time, refundable)\\n- **Semester 1 Fee:** NPR 101,875\\n- **Semester 2 Fee:** NPR 101,875\\n- **Semester 3 Fee:** NPR 101,875\\n- **Semester 4 Fee:** NPR 101,875\\n- **Semester 5 Fee:** NPR 101,875\\n- **Semester 6 Fee:** NPR 101,875\\n- **Semester 7 Fee:** NPR 101,875\\n- **Semester 8 Fee:** NPR 101,875\\n- **Note:** Additional fees for exams, lab materials, and other miscellaneous expenses may be applicable.\\n\\n-c-h-u-n-k-h-e-r-e-\\n\\n## Computer Engineering (CE) Course Structure\\n\\n### Year 1, Semester 1\\n- MATH 101: Calculus and Linear Algebra\\n- PHYS 101: General Physics I\\n- ENGG 101: Introduction to Engineering\\n- COMP 101: Computer Programming I (C)\\n- EEEG 101: Basic Electrical Engineering\\n- ENGT 101: Communication Skills I\\n\\n### Year 1, Semester 2\\n- MATH 102: Differential Equations and Complex Variables\\n- PHYS 102: General Physics II\\n- COMP 102: Computer Programming II (C++)\\n- EEEG 102: Basic Electronics Engineering\\n- MECH 101: Engineering Drawing\\n- ENGT 102: Communication Skills II\\n\\n### Year 2, Semester 1\\n- MATH 201: Probability and Statistics\\n- COMP 201: Data Structures and Algorithms\\n- COMP 202: Object-Oriented Programming (Java)\\n- EEEG 201: Digital Logic\\n- EEEG 202: Electric Circuits and Machines\\n- MGTS 201: Principles of Management\\n\\n### Year 2, Semester 2\\n- MATH 202: Numerical Methods\\n- COMP 203: Database Management Systems\\n- COMP 204: Computer Organization and Architecture\\n- EEEG 203: Electronic Devices and Circuits\\n- EEEG 204: Microprocessors\\n- ENVE 201: Environmental Science and Engineering\\n\\n### Year 3, Semester 1\\n- COMP 301: Operating Systems\\n- COMP 302: Computer Networks\\n- COMP 303: Software Engineering\\n- COMP 304: Theory of Computation\\n- EEEG 301: Signals and Systems\\n- Project I\\n\\n### Year 3, Semester 2\\n- COMP 305: Artificial Intelligence\\n- COMP 306: Web Technologies\\n- COMP 307: Compiler Design\\n- Elective I\\n- Elective II\\n- Project II\\n\\n### Year 4, Semester 1\\n- COMP 401: Computer Graphics\\n- COMP 402: Network and Cyber Security\\n- Elective III\\n- Elective IV\\n- Project III\\n- Internship\\n\\n### Year 4, Semester 2\\n- COMP 403: Distributed Systems\\n- MGTS 401: Engineering Economics\\n- ENGT 401: Professional Practice\\n- Elective V\\n- Final Year Project\\n\\n-c-h-u-n-k-h-e-r-e-\\n\\n## Computer Engineering (CE) Elective Courses\\nStudents can choose from a range of elective courses in areas such as:\\n- Machine Learning\\n- Data Science and Big Data Analytics\\n- Cloud Computing\\n- Internet of Things (IoT)\\n- Mobile Application Development\\n- Robotics and Automation\\n- Digital Image Processing\\n- Natural Language Processing\\n', path=None, url=None, mimetype=None), image_resource=None, audio_resource=None, video_resource=None, text_template='{metadata_str}\\n\\n{content}'),\n",
       " Document(id_='c400798b-2b6a-42b6-88ec-984bad9a26fe', embedding=None, metadata={'file_path': '/media/epein5/Data1/Voice-to-voice/rag/../KUSOE_database/programs/electrical_and_electronics_engineering.txt', 'file_name': 'electrical_and_electronics_engineering.txt', 'file_type': 'text/plain', 'file_size': 4305, 'creation_date': '2025-06-28', 'last_modified_date': '2025-06-28'}, excluded_embed_metadata_keys=['file_name', 'file_type', 'file_size', 'creation_date', 'last_modified_date', 'last_accessed_date'], excluded_llm_metadata_keys=['file_name', 'file_type', 'file_size', 'creation_date', 'last_modified_date', 'last_accessed_date'], relationships={}, metadata_template='{key}: {value}', metadata_separator='\\n', text_resource=MediaResource(embeddings=None, data=None, text='# Bachelor of Engineering in Electrical and Electronics Engineering (EE)\\n\\n-c-h-u-n-k-h-e-r-e-\\n\\n## Electrical and Electronics Engineering (EE) Program Overview\\nThe Bachelor of Engineering in Electrical and Electronics Engineering at KUSOE is a four-year program designed to provide students with a comprehensive understanding of electrical and electronic principles. The curriculum covers a wide range of topics, including power systems, electronics, telecommunications, and control systems. The program aims to produce skilled engineers who can design, develop, and maintain electrical and electronic systems in various industries.\\n\\n-c-h-u-n-k-h-e-r-e-\\n\\n## Electrical and Electronics Engineering (EE) Program Objectives\\n- To provide a strong foundation in the principles of electrical and electronics engineering.\\n- To develop skills in the design and analysis of electrical and electronic circuits and systems.\\n- To provide knowledge of power generation, transmission, and distribution.\\n- To foster an understanding of communication systems and signal processing.\\n- To encourage research and development in the field of electrical and electronics engineering.\\n\\n-c-h-u-n-k-h-e-r-e-\\n\\n## Electrical and Electronics Engineering (EE) Career Prospects\\nGraduates can pursue careers in:\\n- Power Generation and Distribution Companies\\n- Telecommunication Companies\\n- Electronics Manufacturing Industries\\n- Automation and Control Industries\\n- Renewable Energy Sector\\n- Research and Development\\n\\n-c-h-u-n-k-h-e-r-e-\\n\\n## Electrical and Electronics Engineering (EE) Fee Structure\\nThe total fee for the 4-year Electrical and Electronics Engineering program is NPR 915,000. This is broken down into semester-wise payments as follows (amounts are approximate and subject to change):\\n- **Admission Fee:** NPR 100,000 (one-time payment at the time of admission)\\n- **Security Deposit:** NPR 10,000 (one-time, refundable)\\n- **Semester 1 Fee:** NPR 101,875\\n- **Semester 2 Fee:** NPR 101,875\\n- **Semester 3 Fee:** NPR 101,875\\n- **Semester 4 Fee:** NPR 101,875\\n- **Semester 5 Fee:** NPR 101,875\\n- **Semester 6 Fee:** NPR 101,875\\n- **Semester 7 Fee:** NPR 101,875\\n- **Semester 8 Fee:** NPR 101,875\\n- **Note:** Additional fees for exams, lab materials, and other miscellaneous expenses may be applicable.\\n\\n-c-h-u-n-k-h-e-r-e-\\n\\n## Electrical and Electronics Engineering (EE) Course Structure\\n\\n### Year 1, Semester 1\\n- MATH 101: Calculus and Linear Algebra\\n- PHYS 101: General Physics I\\n- ENGG 101: Introduction to Engineering\\n- COMP 101: Computer Programming I (C)\\n- EEEG 101: Basic Electrical Engineering\\n- ENGT 101: Communication Skills I\\n\\n### Year 1, Semester 2\\n- MATH 102: Differential Equations and Complex Variables\\n- PHYS 102: General Physics II\\n- COMP 102: Computer Programming II (C++)\\n- EEEG 102: Basic Electronics Engineering\\n- MECH 101: Engineering Drawing\\n- ENGT 102: Communication Skills II\\n\\n### Year 2, Semester 1\\n- MATH 201: Probability and Statistics\\n- EEEG 201: Digital Logic\\n- EEEG 202: Electric Circuits and Machines\\n- EEEG 203: Electronic Devices and Circuits\\n- MECH 202: Thermodynamics and Heat Transfer\\n- MGTS 201: Principles of Management\\n\\n### Year 2, Semester 2\\n- MATH 202: Numerical Methods\\n- EEEG 204: Microprocessors\\n- EEEG 205: Electromagnetic Fields and Waves\\n- EEEG 206: Instrumentation and Measurement\\n- COMP 201: Data Structures and Algorithms\\n- ENVE 201: Environmental Science and Engineering\\n\\n### Year 3, Semester 1\\n- EEEG 301: Signals and Systems\\n- EEEG 302: Control Systems\\n- EEEG 303: Power Systems I\\n- EEEG 304: Communication Systems I\\n- EEEG 305: Power Electronics\\n- Project I\\n\\n### Year 3, Semester 2\\n- EEEG 306: Digital Signal Processing\\n- EEEG 307: Power Systems II\\n- EEEG 308: Communication Systems II\\n- Elective I\\n- Elective II\\n- Project II\\n\\n### Year 4, Semester 1\\n- EEEG 401: High Voltage Engineering\\n- EEEG 402: Renewable Energy Systems\\n- Elective III\\n- Elective IV\\n- Project III\\n- Internship\\n\\n### Year 4, Semester 2\\n- EEEG 403: Power System Protection\\n- MGTS 401: Engineering Economics\\n- ENGT 401: Professional Practice\\n- Elective V\\n- Final Year Project\\n\\n-c-h-u-n-k-h-e-r-e-\\n\\n## Electrical and Electronics Engineering (EE) Elective Courses\\n- VLSI Design\\n- Wireless Communication\\n- Smart Grid Technology\\n- Robotics and Automation\\n- Biomedical Instrumentation\\n- Satellite Communication\\n', path=None, url=None, mimetype=None), image_resource=None, audio_resource=None, video_resource=None, text_template='{metadata_str}\\n\\n{content}'),\n",
       " Document(id_='cd2e4d51-cfc1-49b7-a058-ba83f50a9583', embedding=None, metadata={'file_path': '/media/epein5/Data1/Voice-to-voice/rag/../KUSOE_database/programs/information_technology.txt', 'file_name': 'information_technology.txt', 'file_type': 'text/plain', 'file_size': 4004, 'creation_date': '2025-06-28', 'last_modified_date': '2025-06-28'}, excluded_embed_metadata_keys=['file_name', 'file_type', 'file_size', 'creation_date', 'last_modified_date', 'last_accessed_date'], excluded_llm_metadata_keys=['file_name', 'file_type', 'file_size', 'creation_date', 'last_modified_date', 'last_accessed_date'], relationships={}, metadata_template='{key}: {value}', metadata_separator='\\n', text_resource=MediaResource(embeddings=None, data=None, text='# Bachelor of Science in Information Technology (IT)\\n\\n-c-h-u-n-k-h-e-r-e-\\n\\n## Information Technology (IT) Program Overview\\nThe Bachelor of Science in Information Technology at KUSOE is a four-year program that focuses on the application of computer and communication technologies to solve real-world problems. The curriculum covers a broad range of topics, including programming, databases, networking, web technologies, and system administration. The program prepares students for careers in IT support, network administration, software development, and IT management.\\n\\n-c-h-u-n-k-h-e-r-e-\\n\\n## Information Technology (IT) Program Objectives\\n- To provide a strong foundation in the principles of information technology.\\n- To develop skills in the design, implementation, and management of IT systems.\\n- To provide knowledge of current and emerging technologies in the IT industry.\\n- To foster an understanding of the role of IT in business and society.\\n- To prepare students for a successful career in the dynamic field of IT.\\n\\n-c-h-u-n-k-h-e-r-e-\\n\\n## Information Technology (IT) Career Prospects\\nGraduates can work as:\\n- IT Manager\\n- System Administrator\\n- Network Administrator\\n- Database Administrator\\n- Web Developer\\n- IT Consultant\\n\\n-c-h-u-n-k-h-e-r-e-\\n\\n## Information Technology (IT) Fee Structure\\nThe total fee for the 4-year IT program is NPR 915,000. This is broken down into semester-wise payments as follows (amounts are approximate and subject to change):\\n- **Admission Fee:** NPR 100,000 (one-time payment at the time of admission)\\n- **Security Deposit:** NPR 10,000 (one-time, refundable)\\n- **Semester 1 Fee:** NPR 101,875\\n- **Semester 2 Fee:** NPR 101,875\\n- **Semester 3 Fee:** NPR 101,875\\n- **Semester 4 Fee:** NPR 101,875\\n- **Semester 5 Fee:** NPR 101,875\\n- **Semester 6 Fee:** NPR 101,875\\n- **Semester 7 Fee:** NPR 101,875\\n- **Semester 8 Fee:** NPR 101,875\\n- **Note:** Additional fees for exams, lab materials, and other miscellaneous expenses may be applicable.\\n\\n-c-h-u-n-k-h-e-r-e-\\n\\n## Information Technology (IT) Course Structure\\n\\n### Year 1, Semester 1\\n- MATH 101: Calculus and Linear Algebra\\n- PHYS 101: General Physics I\\n- COMP 101: Computer Programming I (C)\\n- INFO 101: Introduction to Information Technology\\n- EEEG 101: Basic Electrical Engineering\\n- ENGT 101: Communication Skills I\\n\\n### Year 1, Semester 2\\n- MATH 102: Differential Equations and Complex Variables\\n- PHYS 102: General Physics II\\n- COMP 102: Computer Programming II (C++)\\n- EEEG 102: Basic Electronics Engineering\\n- MECH 101: Engineering Drawing\\n- ENGT 102: Communication Skills II\\n\\n### Year 2, Semester 1\\n- MATH 201: Probability and Statistics\\n- COMP 201: Data Structures and Algorithms\\n- COMP 202: Object-Oriented Programming (Java)\\n- INFO 201: System Analysis and Design\\n- EEEG 201: Digital Logic\\n- MGTS 201: Principles of Management\\n\\n### Year 2, Semester 2\\n- MATH 202: Numerical Methods\\n- COMP 203: Database Management Systems\\n- INFO 202: Web Technologies I\\n- COMP 204: Computer Organization and Architecture\\n- EEEG 204: Microprocessors\\n- ENVE 201: Environmental Science and Engineering\\n\\n### Year 3, Semester 1\\n- COMP 301: Operating Systems\\n- COMP 302: Computer Networks\\n- COMP 303: Software Engineering\\n- INFO 301: E-commerce\\n- INFO 302: IT Project Management\\n- Project I\\n\\n### Year 3, Semester 2\\n- INFO 303: Web Technologies II\\n- INFO 304: Network and System Administration\\n- COMP 305: Artificial Intelligence\\n- Elective I\\n- Elective II\\n- Project II\\n\\n### Year 4, Semester 1\\n- INFO 401: Information Security\\n- INFO 402: Mobile Application Development\\n- Elective III\\n- Elective IV\\n- Project III\\n- Internship\\n\\n### Year 4, Semester 2\\n- INFO 403: Cloud Computing\\n- MGTS 401: Engineering Economics\\n- ENGT 401: Professional Practice\\n- Elective V\\n- Final Year Project\\n\\n-c-h-u-n-k-h-e-r-e-\\n\\n## Information Technology (IT) Elective Courses\\n- Data Warehousing and Data Mining\\n- Multimedia Systems\\n- Geographic Information Systems (GIS)\\n- Enterprise Resource Planning (ERP)\\n- Digital Marketing\\n- IT Audit and Controls\\n', path=None, url=None, mimetype=None), image_resource=None, audio_resource=None, video_resource=None, text_template='{metadata_str}\\n\\n{content}'),\n",
       " Document(id_='95570f7f-aaf3-4b89-a2cd-5cd0622a84e2', embedding=None, metadata={'file_path': '/media/epein5/Data1/Voice-to-voice/rag/../KUSOE_database/programs/mechanical_engineering.txt', 'file_name': 'mechanical_engineering.txt', 'file_type': 'text/plain', 'file_size': 4100, 'creation_date': '2025-06-28', 'last_modified_date': '2025-06-28'}, excluded_embed_metadata_keys=['file_name', 'file_type', 'file_size', 'creation_date', 'last_modified_date', 'last_accessed_date'], excluded_llm_metadata_keys=['file_name', 'file_type', 'file_size', 'creation_date', 'last_modified_date', 'last_accessed_date'], relationships={}, metadata_template='{key}: {value}', metadata_separator='\\n', text_resource=MediaResource(embeddings=None, data=None, text='# Bachelor of Engineering in Mechanical Engineering (ME)\\n\\n-c-h-u-n-k-h-e-r-e-\\n\\n## Mechanical Engineering (ME) Program Overview\\nThe Bachelor of Engineering in Mechanical Engineering at KUSOE is a four-year program that provides a broad and rigorous education in the principles of mechanical engineering. The curriculum covers a wide range of subjects, including mechanics, thermodynamics, fluid mechanics, materials science, and design. The program prepares students for careers in various industries, including manufacturing, automotive, aerospace, and energy.\\n\\n-c-h-u-n-k-h-e-r-e-\\n\\n## Mechanical Engineering (ME) Program Objectives\\n- To provide a strong foundation in the fundamental principles of mechanical engineering.\\n- To develop skills in the design, analysis, and manufacturing of mechanical systems.\\n- To provide knowledge of energy systems and thermal sciences.\\n- To foster an understanding of the properties and behavior of materials.\\n- To encourage innovation and creativity in solving engineering problems.\\n\\n-c-h-u-n-k-h-e-r-e-\\n\\n## Mechanical Engineering (ME) Career Prospects\\nGraduates can find employment in:\\n- Manufacturing and Production Industries\\n- Automotive and Aerospace Industries\\n- Power Plants and Energy Sector\\n- HVAC and Refrigeration Companies\\n- Robotics and Automation\\n- Research and Development\\n\\n-c-h-u-n-k-h-e-r-e-\\n\\n## Mechanical Engineering (ME) Fee Structure\\nThe total fee for the 4-year Mechanical Engineering program is NPR 915,000. This is broken down into semester-wise payments as follows (amounts are approximate and subject to change):\\n- **Admission Fee:** NPR 100,000 (one-time payment at the time of admission)\\n- **Security Deposit:** NPR 10,000 (one-time, refundable)\\n- **Semester 1 Fee:** NPR 101,875\\n- **Semester 2 Fee:** NPR 101,875\\n- **Semester 3 Fee:** NPR 101,875\\n- **Semester 4 Fee:** NPR 101,875\\n- **Semester 5 Fee:** NPR 101,875\\n- **Semester 6 Fee:** NPR 101,875\\n- **Semester 7 Fee:** NPR 101,875\\n- **Semester 8 Fee:** NPR 101,875\\n- **Note:** Additional fees for exams, lab materials, and other miscellaneous expenses may be applicable.\\n\\n-c-h-u-n-k-h-e-r-e-\\n\\n## Mechanical Engineering (ME) Course Structure\\n\\n### Year 1, Semester 1\\n- MATH 101: Calculus and Linear Algebra\\n- PHYS 101: General Physics I\\n- ENGG 101: Introduction to Engineering\\n- COMP 101: Computer Programming I (C)\\n- EEEG 101: Basic Electrical Engineering\\n- ENGT 101: Communication Skills I\\n\\n### Year 1, Semester 2\\n- MATH 102: Differential Equations and Complex Variables\\n- PHYS 102: General Physics II\\n- MECH 101: Engineering Drawing\\n- MECH 102: Statics and Dynamics\\n- EEEG 102: Basic Electronics Engineering\\n- ENGT 102: Communication Skills II\\n\\n### Year 2, Semester 1\\n- MATH 201: Probability and Statistics\\n- MECH 201: Strength of Materials\\n- MECH 202: Thermodynamics and Heat Transfer\\n- MECH 203: Fluid Mechanics I\\n- MECH 204: Materials Science and Metallurgy\\n- MGTS 201: Principles of Management\\n\\n### Year 2, Semester 2\\n- MATH 202: Numerical Methods\\n- MECH 205: Theory of Machines I\\n- MECH 206: Fluid Mechanics II\\n- MECH 207: Manufacturing Processes I\\n- COMP 201: Data Structures and Algorithms\\n- ENVE 201: Environmental Science and Engineering\\n\\n### Year 3, Semester 1\\n- MECH 301: Theory of Machines II\\n- MECH 302: Heat Transfer\\n- MECH 303: Machine Design I\\n- MECH 304: Manufacturing Processes II\\n- MECH 305: Industrial Engineering and Management\\n- Project I\\n\\n### Year 3, Semester 2\\n- MECH 306: Control Systems\\n- MECH 307: Machine Design II\\n- MECH 308: Internal Combustion Engines\\n- Elective I\\n- Elective II\\n- Project II\\n\\n### Year 4, Semester 1\\n- MECH 401: Finite Element Method\\n- MECH 402: Power Plant Engineering\\n- Elective III\\n- Elective IV\\n- Project III\\n- Internship\\n\\n### Year 4, Semester 2\\n- MECH 403: Refrigeration and Air Conditioning\\n- MGTS 401: Engineering Economics\\n- ENGT 401: Professional Practice\\n- Elective V\\n- Final Year Project\\n\\n-c-h-u-n-k-h-e-r-e-\\n\\n## Mechanical Engineering (ME) Elective Courses\\n- Robotics and Automation\\n- Computational Fluid Dynamics (CFD)\\n- Automobile Engineering\\n- Renewable Energy Technology\\n- Advanced Manufacturing Processes\\n- Tribology\\n', path=None, url=None, mimetype=None), image_resource=None, audio_resource=None, video_resource=None, text_template='{metadata_str}\\n\\n{content}')]"
      ]
     },
     "execution_count": 4,
     "metadata": {},
     "output_type": "execute_result"
    }
   ],
   "source": [
    "documents = [doc for doc in documents if doc.text.strip() != \"\"]\n",
    "documents"
   ]
  },
  {
   "cell_type": "code",
   "execution_count": 5,
   "id": "3e00b16d",
   "metadata": {},
   "outputs": [
    {
     "name": "stdout",
     "output_type": "stream",
     "text": [
      "Custom chunking function created!\n"
     ]
    }
   ],
   "source": [
    "# 2. Configure Custom Chunking\n",
    "from llama_index.core.schema import Document, TextNode\n",
    "\n",
    "def custom_chunk_splitter(documents):\n",
    "    \"\"\"Custom function to split documents exactly at the delimiter\"\"\"\n",
    "    all_nodes = []\n",
    "    \n",
    "    for doc in documents:\n",
    "        # Split the text at the delimiter\n",
    "        chunks = doc.text.split(\"-c-h-u-n-k-h-e-r-e-\")\n",
    "        \n",
    "        # Create nodes from each chunk\n",
    "        for i, chunk in enumerate(chunks):\n",
    "            chunk = chunk.strip()  # Remove extra whitespace\n",
    "            if chunk:  # Only create nodes for non-empty chunks\n",
    "                node = TextNode(\n",
    "                    text=chunk,\n",
    "                    metadata={\n",
    "                        **doc.metadata,\n",
    "                        \"chunk_id\": i,\n",
    "                        \"total_chunks\": len(chunks)\n",
    "                    }\n",
    "                )\n",
    "                all_nodes.append(node)\n",
    "    \n",
    "    return all_nodes\n",
    "\n",
    "print(\"Custom chunking function created!\")"
   ]
  },
  {
   "cell_type": "code",
   "execution_count": 6,
   "id": "c291b6c3",
   "metadata": {},
   "outputs": [
    {
     "name": "stdout",
     "output_type": "stream",
     "text": [
      "Testing custom chunking...\n",
      "Number of chunks created: 16\n",
      "First chunk preview:\n",
      "# KUSOE General Information: Overview\n",
      "\n",
      "Kathmandu University School of Engineering (KUSOE), established in 1994 AD, is a leading autonomous, non-profit, and self-funding academic institution in Nepal. Situated in Dhulikhel, KUSOE offers a wide range of undergraduate and graduate programs, aiming to p...\n",
      "\n",
      "Second chunk preview:\n",
      "# KUSOE Admission Information: General Timeline\n",
      "Normal annual intake: Fall (July–September) for undergraduate and most graduate programs. Specific dates for application submission and entrance exams are announced on the official KU website (ku.edu.np) and the School of Engineering portal.\n",
      "\n",
      "Some grad...\n",
      "\n",
      "Original document contains delimiter: True\n",
      "---\n"
     ]
    }
   ],
   "source": [
    "# Debug: Check if chunking works\n",
    "print(\"Testing custom chunking...\")\n",
    "test_nodes = custom_chunk_splitter(documents[:1])  # Test with first document\n",
    "print(f\"Number of chunks created: {len(test_nodes)}\")\n",
    "print(f\"First chunk preview:\")\n",
    "print(test_nodes[0].text[:300] + \"...\")\n",
    "print(f\"\\nSecond chunk preview:\")\n",
    "if len(test_nodes) > 1:\n",
    "    print(test_nodes[1].text[:300] + \"...\")\n",
    "print(f\"\\nOriginal document contains delimiter: {'-c-h-u-n-k-h-e-r-e-' in documents[0].text}\")\n",
    "print(\"---\")"
   ]
  },
  {
   "cell_type": "code",
   "execution_count": 7,
   "id": "6d7f6c67",
   "metadata": {},
   "outputs": [
    {
     "name": "stdout",
     "output_type": "stream",
     "text": [
      "Initializing embedding model...\n"
     ]
    }
   ],
   "source": [
    "# 3. Configure Embeddings\n",
    "print(\"Initializing embedding model...\")\n",
    "embed_model = HuggingFaceEmbedding(model_name=\"BAAI/bge-small-en\")"
   ]
  },
  {
   "cell_type": "code",
   "execution_count": 8,
   "id": "e0d99ac6",
   "metadata": {},
   "outputs": [],
   "source": [
    "# 4. Setup ChromaDB Persistent Vector Store (COMMENTED OUT - using in-memory instead)\n",
    "# print(\"Setting up ChromaDB...\")\n",
    "\n",
    "# # Disable ChromaDB telemetry to suppress warnings\n",
    "# import os\n",
    "# import shutil\n",
    "# os.environ[\"ANONYMIZED_TELEMETRY\"] = \"False\"\n",
    "\n",
    "# # Reset ChromaDB system to clear any existing instances\n",
    "# import chromadb\n",
    "# from chromadb.api.models.Collection import Collection\n",
    "# chromadb.api.client._identifier_to_system = {}\n",
    "\n",
    "# # Create persistent storage directory\n",
    "# persist_directory = \"../chromadb_storage\"\n",
    "\n",
    "# # Remove existing directory if it exists to avoid conflicts\n",
    "# if os.path.exists(persist_directory):\n",
    "#     print(\"Removing existing ChromaDB storage...\")\n",
    "#     shutil.rmtree(persist_directory)\n",
    "\n",
    "# os.makedirs(persist_directory, exist_ok=True)\n",
    "\n",
    "# # Use PersistentClient to save embeddings to disk\n",
    "# db = chromadb.PersistentClient(path=persist_directory)\n",
    "# chroma_collection = db.get_or_create_collection(\"kusoe_rag\")\n",
    "# vector_store = ChromaVectorStore(chroma_collection=chroma_collection)\n"
   ]
  },
  {
   "cell_type": "code",
   "execution_count": 9,
   "id": "f13046f1",
   "metadata": {},
   "outputs": [
    {
     "name": "stdout",
     "output_type": "stream",
     "text": [
      "Setting up ChromaDB (In-Memory)...\n"
     ]
    },
    {
     "name": "stderr",
     "output_type": "stream",
     "text": [
      "Failed to send telemetry event ClientStartEvent: capture() takes 1 positional argument but 3 were given\n",
      "Failed to send telemetry event ClientCreateCollectionEvent: capture() takes 1 positional argument but 3 were given\n"
     ]
    }
   ],
   "source": [
    "# Alternative: Setup ChromaDB In-Memory (if persistent fails)\n",
    "# Using this approach since persistent storage is having conflicts\n",
    "\n",
    "print(\"Setting up ChromaDB (In-Memory)...\")\n",
    "import chromadb\n",
    "db = chromadb.EphemeralClient()\n",
    "chroma_collection = db.get_or_create_collection(\"kusoe_rag\")\n",
    "vector_store = ChromaVectorStore(chroma_collection=chroma_collection)"
   ]
  },
  {
   "cell_type": "code",
   "execution_count": 10,
   "id": "29aad080",
   "metadata": {},
   "outputs": [
    {
     "name": "stderr",
     "output_type": "stream",
     "text": [
      "Failed to send telemetry event ClientStartEvent: capture() takes 1 positional argument but 3 were given\n",
      "Failed to send telemetry event ClientCreateCollectionEvent: capture() takes 1 positional argument but 3 were given\n"
     ]
    },
    {
     "name": "stdout",
     "output_type": "stream",
     "text": [
      "Setting up fresh ChromaDB (In-Memory)...\n",
      "ChromaDB setup complete!\n"
     ]
    }
   ],
   "source": [
    "# Fresh ChromaDB Setup - Run this if you're having issues\n",
    "import importlib\n",
    "import sys\n",
    "\n",
    "# Clear ChromaDB from memory\n",
    "modules_to_remove = [module for module in sys.modules if 'chromadb' in module]\n",
    "for module in modules_to_remove:\n",
    "    del sys.modules[module]\n",
    "\n",
    "# Fresh imports\n",
    "import chromadb\n",
    "print(\"Setting up fresh ChromaDB (In-Memory)...\")\n",
    "\n",
    "# Create completely new client\n",
    "db = chromadb.EphemeralClient()\n",
    "chroma_collection = db.create_collection(\"kusoe_rag_fresh\")\n",
    "vector_store = ChromaVectorStore(chroma_collection=chroma_collection)\n",
    "print(\"ChromaDB setup complete!\")"
   ]
  },
  {
   "cell_type": "code",
   "execution_count": 11,
   "id": "38f7e973",
   "metadata": {},
   "outputs": [
    {
     "name": "stdout",
     "output_type": "stream",
     "text": [
      "LLM is explicitly disabled. Using MockLLM.\n"
     ]
    }
   ],
   "source": [
    "# 5. Configure Global Settings\n",
    "Settings.embed_model = embed_model\n",
    "Settings.llm = None  # Disable LLM for retrieval-only mode\n",
    "\n",
    "# Create storage context\n",
    "storage_context = StorageContext.from_defaults(vector_store=vector_store)\n"
   ]
  },
  {
   "cell_type": "code",
   "execution_count": 12,
   "id": "b38f8e63",
   "metadata": {},
   "outputs": [
    {
     "name": "stdout",
     "output_type": "stream",
     "text": [
      "Creating index with custom chunking...\n",
      "Total chunks created: 58\n"
     ]
    },
    {
     "name": "stderr",
     "output_type": "stream",
     "text": [
      "Generating embeddings: 100%|██████████| 58/58 [00:02<00:00, 20.33it/s]\n",
      "Failed to send telemetry event CollectionAddEvent: capture() takes 1 positional argument but 3 were given\n"
     ]
    }
   ],
   "source": [
    "print(\"Creating index with custom chunking...\")\n",
    "# Apply custom chunking to all documents\n",
    "all_nodes = custom_chunk_splitter(documents)\n",
    "print(f\"Total chunks created: {len(all_nodes)}\")\n",
    "\n",
    "# Create index from the custom chunks\n",
    "index = VectorStoreIndex(\n",
    "    nodes=all_nodes,\n",
    "    storage_context=storage_context,\n",
    "    show_progress=True\n",
    ")"
   ]
  },
  {
   "cell_type": "code",
   "execution_count": 21,
   "id": "0bb5cc66",
   "metadata": {},
   "outputs": [
    {
     "name": "stdout",
     "output_type": "stream",
     "text": [
      "Creating query engine...\n",
      "Querying...\n",
      "\n",
      "--- Retrieved 3 chunks for query: 'What is the time Computer Engineering?' ---\n",
      "\n",
      "Chunk 1 (Score: 0.756):\n",
      "## Computer Engineering (CE) Program Overview\n",
      "The Bachelor of Engineering in Computer Engineering program at Kathmandu University is a four-year, eight-semester course that provides a strong foundation in the principles and practices of both computer science and electronics engineering. The curriculum is designed to produce graduates who are proficient in designing, developing, and implementing computer systems and applications. The program emphasizes a hands-on, project-based learning approach, preparing students for careers in software development, network engineering, embedded systems, and other related fields.\n",
      "--------------------------------------------------\n",
      "\n",
      "Chunk 2 (Score: 0.748):\n",
      "## Computer Engineering (CE) Program Objectives\n",
      "- To provide a solid understanding of the fundamental principles of computer science and engineering.\n",
      "- To develop skills in software design, development, and testing.\n",
      "- To provide knowledge of computer hardware, architecture, and networking.\n",
      "- To foster an understanding of the social, ethical, and professional responsibilities of a computer engineer.\n",
      "- To encourage lifelong learning and research in the field of computer engineering.\n",
      "--------------------------------------------------\n",
      "\n",
      "Chunk 3 (Score: 0.743):\n",
      "## Computer Engineering (CE) Course Structure\n",
      "\n",
      "### Year 1, Semester 1\n",
      "- MATH 101: Calculus and Linear Algebra\n",
      "- PHYS 101: General Physics I\n",
      "- ENGG 101: Introduction to Engineering\n",
      "- COMP 101: Computer Programming I (C)\n",
      "- EEEG 101: Basic Electrical Engineering\n",
      "- ENGT 101: Communication Skills I\n",
      "\n",
      "### Year 1, Semester 2\n",
      "- MATH 102: Differential Equations and Complex Variables\n",
      "- PHYS 102: General Physics II\n",
      "- COMP 102: Computer Programming II (C++)\n",
      "- EEEG 102: Basic Electronics Engineering\n",
      "- MECH 101: Engineering Drawing\n",
      "- ENGT 102: Communication Skills II\n",
      "\n",
      "### Year 2, Semester 1\n",
      "- MATH 201: Probability and Statistics\n",
      "- COMP 201: Data Structures and Algorithms\n",
      "- COMP 202: Object-Oriented Programming (Java)\n",
      "- EEEG 201: Digital Logic\n",
      "- EEEG 202: Electric Circuits and Machines\n",
      "- MGTS 201: Princip...\n",
      "--------------------------------------------------\n"
     ]
    }
   ],
   "source": [
    "\n",
    "# 6. Create Query Engine (Retrieval-only mode)\n",
    "print(\"Creating query engine...\")\n",
    "from llama_index.core.retrievers import VectorIndexRetriever\n",
    "\n",
    "# Create a simple retriever that just returns similar chunks\n",
    "retriever = VectorIndexRetriever(\n",
    "    index=index,\n",
    "    similarity_top_k=3  # Return top 3 most similar chunks\n",
    ")\n",
    "\n",
    "# 7. Run a Sample Query\n",
    "print(\"Querying...\")\n",
    "query = \"What is the time Computer Engineering?\"\n",
    "retrieved_nodes = retriever.retrieve(query)\n",
    "\n",
    "print(f\"\\n--- Retrieved {len(retrieved_nodes)} chunks for query: '{query}' ---\")\n",
    "for i, node in enumerate(retrieved_nodes, 1):\n",
    "    print(f\"\\nChunk {i} (Score: {node.score:.3f}):\")\n",
    "    print(node.text[:800] + \"...\" if len(node.text) > 800 else node.text)\n",
    "    print(\"-\" * 50)\n"
   ]
  },
  {
   "cell_type": "markdown",
   "id": "3d6f4bac",
   "metadata": {},
   "source": [
    "## Loading Existing Embeddings\n",
    "\n",
    "Once you've run the above cells, the embeddings are saved to disk in the `../chromadb_storage` directory. \n",
    "\n",
    "For future sessions, you can skip the indexing step and directly load the existing embeddings using the code in the next cell."
   ]
  },
  {
   "cell_type": "code",
   "execution_count": 14,
   "id": "00e0c2d4",
   "metadata": {},
   "outputs": [],
   "source": [
    "# Alternative: Load existing embeddings (run this instead of the indexing cells above)\n",
    "def load_existing_index():\n",
    "    \"\"\"Load previously created index from disk\"\"\"\n",
    "    persist_directory = \"../chromadb_storage\"\n",
    "    \n",
    "    if not os.path.exists(persist_directory):\n",
    "        print(\"No existing embeddings found. Please run the full pipeline first.\")\n",
    "        return None\n",
    "    \n",
    "    # Configure embeddings (same as before)\n",
    "    embed_model = HuggingFaceEmbedding(model_name=\"BAAI/bge-small-en\")\n",
    "    Settings.embed_model = embed_model\n",
    "    \n",
    "    # Load existing ChromaDB\n",
    "    db = chromadb.PersistentClient(path=persist_directory)\n",
    "    chroma_collection = db.get_or_create_collection(\"kusoe_rag\")\n",
    "    vector_store = ChromaVectorStore(chroma_collection=chroma_collection)\n",
    "    \n",
    "    # Load the index\n",
    "    index = VectorStoreIndex.from_vector_store(vector_store)\n",
    "    \n",
    "    print(\"Existing index loaded successfully!\")\n",
    "    return index\n",
    "\n",
    "# Uncomment the next two lines to load existing embeddings instead of creating new ones:\n",
    "# existing_index = load_existing_index()\n",
    "# query_engine = existing_index.as_query_engine() if existing_index else None"
   ]
  },
  {
   "cell_type": "code",
   "execution_count": null,
   "id": "3f19fb6a",
   "metadata": {},
   "outputs": [],
   "source": []
  },
  {
   "cell_type": "code",
   "execution_count": 18,
   "id": "0bec8061",
   "metadata": {},
   "outputs": [
    {
     "name": "stdout",
     "output_type": "stream",
     "text": [
      "=== KUSOE Vector Database Memory Estimation ===\n",
      "Documents loaded: 7\n",
      "Total chunks created: 58\n",
      "Total characters: 34,274\n",
      "Average chunk size: 590 characters\n",
      "\n",
      "=== Memory Breakdown ===\n",
      "Embeddings: 384 dims × 58 chunks × 4 bytes = 0.08 MB\n",
      "Text storage: 0.03 MB\n",
      "ChromaDB overhead (~25%): 0.03 MB\n",
      "\n",
      "=== Total Estimated Memory Usage ===\n",
      "Total: 0.15 MB (0.000 GB)\n",
      "💚 Very lightweight - easily fits in RAM\n",
      "\n",
      "Note: This is in-memory storage. Persistent storage would be similar in disk space.\n"
     ]
    }
   ],
   "source": [
    "# Memory Usage Estimation\n",
    "print(\"=== KUSOE Vector Database Memory Estimation ===\")\n",
    "\n",
    "# Count total chunks and characters\n",
    "all_nodes = custom_chunk_splitter(documents)\n",
    "total_chunks = len(all_nodes)\n",
    "total_characters = sum(len(node.text) for node in all_nodes)\n",
    "\n",
    "print(f\"Documents loaded: {len(documents)}\")\n",
    "print(f\"Total chunks created: {total_chunks}\")\n",
    "print(f\"Total characters: {total_characters:,}\")\n",
    "print(f\"Average chunk size: {total_characters // total_chunks:,} characters\")\n",
    "\n",
    "# Embedding model details\n",
    "embedding_model = \"bge-small-en\"\n",
    "embedding_dimensions = 384  # bge-small-en has 384 dimensions\n",
    "bytes_per_float = 4  # 32-bit float\n",
    "\n",
    "# Memory calculations\n",
    "embedding_memory_per_chunk = embedding_dimensions * bytes_per_float  # bytes\n",
    "total_embedding_memory = total_chunks * embedding_memory_per_chunk  # bytes\n",
    "\n",
    "# Text storage (assuming UTF-8, ~1 byte per character)\n",
    "text_memory = total_characters  # bytes\n",
    "\n",
    "# ChromaDB overhead (metadata, indices, etc.) - estimated 20-30% overhead\n",
    "overhead_factor = 1.25\n",
    "total_memory_bytes = (total_embedding_memory + text_memory) * overhead_factor\n",
    "\n",
    "# Convert to human-readable units\n",
    "memory_kb = total_memory_bytes / 1024\n",
    "memory_mb = memory_kb / 1024\n",
    "memory_gb = memory_mb / 1024\n",
    "\n",
    "print(f\"\\n=== Memory Breakdown ===\")\n",
    "print(f\"Embeddings: {embedding_dimensions} dims × {total_chunks} chunks × 4 bytes = {total_embedding_memory/1024/1024:.2f} MB\")\n",
    "print(f\"Text storage: {text_memory/1024/1024:.2f} MB\")\n",
    "print(f\"ChromaDB overhead (~25%): {(total_memory_bytes - total_embedding_memory - text_memory)/1024/1024:.2f} MB\")\n",
    "\n",
    "print(f\"\\n=== Total Estimated Memory Usage ===\")\n",
    "print(f\"Total: {memory_mb:.2f} MB ({memory_gb:.3f} GB)\")\n",
    "\n",
    "if memory_mb < 100:\n",
    "    print(\"💚 Very lightweight - easily fits in RAM\")\n",
    "elif memory_mb < 500:\n",
    "    print(\"💚 Lightweight - no memory concerns\")\n",
    "elif memory_mb < 1000:\n",
    "    print(\"💛 Moderate - should be fine on most systems\")\n",
    "else:\n",
    "    print(\"🟡 Large - consider system RAM capacity\")\n",
    "\n",
    "print(f\"\\nNote: This is in-memory storage. Persistent storage would be similar in disk space.\")"
   ]
  },
  {
   "cell_type": "code",
   "execution_count": null,
   "id": "9bea92a9",
   "metadata": {},
   "outputs": [],
   "source": []
  }
 ],
 "metadata": {
  "kernelspec": {
   "display_name": "venv",
   "language": "python",
   "name": "python3"
  },
  "language_info": {
   "codemirror_mode": {
    "name": "ipython",
    "version": 3
   },
   "file_extension": ".py",
   "mimetype": "text/x-python",
   "name": "python",
   "nbconvert_exporter": "python",
   "pygments_lexer": "ipython3",
   "version": "3.12.3"
  }
 },
 "nbformat": 4,
 "nbformat_minor": 5
}
